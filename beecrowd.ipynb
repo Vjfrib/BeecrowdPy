{
  "nbformat": 4,
  "nbformat_minor": 0,
  "metadata": {
    "colab": {
      "provenance": [],
      "authorship_tag": "ABX9TyOYfkdaWP5CEWp4x+ZA5LYK",
      "include_colab_link": true
    },
    "kernelspec": {
      "name": "python3",
      "display_name": "Python 3"
    },
    "language_info": {
      "name": "python"
    }
  },
  "cells": [
    {
      "cell_type": "markdown",
      "metadata": {
        "id": "view-in-github",
        "colab_type": "text"
      },
      "source": [
        "<a href=\"https://colab.research.google.com/github/Vjfrib/beecrowdPy/blob/main/beecrowd.ipynb\" target=\"_parent\"><img src=\"https://colab.research.google.com/assets/colab-badge.svg\" alt=\"Open In Colab\"/></a>"
      ]
    },
    {
      "cell_type": "markdown",
      "source": [
        "# Desafios do Beecrowd em python\n",
        "\n",
        "vou tentar fazer alguns"
      ],
      "metadata": {
        "id": "MGMahR2136Dc"
      }
    },
    {
      "cell_type": "markdown",
      "source": [
        "#1000"
      ],
      "metadata": {
        "id": "1EWPYI_E4GOO"
      }
    },
    {
      "cell_type": "code",
      "source": [
        "#1000\n",
        "print(\"Hello World!\")"
      ],
      "metadata": {
        "colab": {
          "base_uri": "https://localhost:8080/"
        },
        "id": "dT4Mx6W14IEq",
        "outputId": "2f60bed7-a9f8-4111-a3af-0d97b0f7f235"
      },
      "execution_count": null,
      "outputs": [
        {
          "output_type": "stream",
          "name": "stdout",
          "text": [
            "Hello World!\n"
          ]
        }
      ]
    }
  ]
}